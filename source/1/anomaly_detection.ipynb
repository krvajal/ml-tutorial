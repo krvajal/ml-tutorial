{
 "cells": [
  {
   "cell_type": "markdown",
   "metadata": {},
   "source": [
    "# Anomaly Detection\n",
    "\n",
    "In this part will learn how you to build an anomaly detection model yourself.\n",
    "\n",
    "## 1. Load Data\n",
    "\n",
    "First we will load the data using a [pickle format](https://docs.python.org/3.6/library/pickle.html).\n",
    "\n",
    "The data we use contains the page views of one of our own websites and for convenience there is only 1 data point per hour."
   ]
  },
  {
   "cell_type": "code",
   "execution_count": null,
   "metadata": {},
   "outputs": [],
   "source": [
    "import pickle\n",
    "\n",
    "with open('data/past_data.pickle', 'rb') as file:\n",
    "    past = pickle.load(file, encoding='latin1')\n",
    "    \n",
    "with open('data/all_data.pickle', 'rb') as file:\n",
    "    all_data = pickle.load(file, encoding='latin1')\n",
    "\n",
    "print(f'Past data shape = {past.shape}')\n",
    "print(f'Full data shape = {all_data.shape}')"
   ]
  },
  {
   "cell_type": "markdown",
   "metadata": {},
   "source": [
    "## 2. Plot past data\n",
    "\n",
    "To plot the past data we will use ```matplotlib.pyplot```. For convenience we import it as ```plt```. \n",
    "\n",
    "```% matplotlib inline``` makes sure you can see the output in the notebook. \n",
    "\n",
    "(Use ```% matplotlib notebook``` if you want to make it interactive. Don't forget to click the power button to finish the interaction and to be able to plot a new figure.)"
   ]
  },
  {
   "cell_type": "code",
   "execution_count": null,
   "metadata": {},
   "outputs": [],
   "source": [
    "import matplotlib.pyplot as plt\n",
    "%matplotlib inline\n",
    "\n",
    "plt.figure(figsize=(20,4)) # This creates a new figure with the dimensions of 20 by 4\n",
    "plt.plot(past)             # This creates the actual plot\n",
    "plt.show()                 # This shows the plot"
   ]
  },
  {
   "cell_type": "markdown",
   "metadata": {},
   "source": [
    "## 3. Find the minimum and maximum\n",
    "\n",
    "Use [```np.nanmax()```](http://docs.scipy.org/doc/numpy/reference/generated/numpy.nanmax.html#numpy.nanmax) and [```np.nanmin()```](http://docs.scipy.org/doc/numpy/reference/generated/numpy.nanmin.html) to find the minmum and maximum while ignoring the NaNs."
   ]
  },
  {
   "cell_type": "code",
   "execution_count": null,
   "metadata": {},
   "outputs": [],
   "source": [
    "import numpy as np"
   ]
  },
  {
   "cell_type": "code",
   "execution_count": null,
   "metadata": {
    "nbgrader": {
     "grade": false,
     "grade_id": "ad_min_max",
     "locked": false,
     "schema_version": 3,
     "solution": true
    }
   },
   "outputs": [],
   "source": [
    "### BEGIN SOLUTION\n",
    "maximum = np.nanmax(past)\n",
    "minimum = np.nanmin(past)\n",
    "### END SOLUTION\n",
    "# maximum = ?\n",
    "# minimum = ?\n",
    "print(minimum, maximum)"
   ]
  },
  {
   "cell_type": "markdown",
   "metadata": {},
   "source": [
    "And plot these together with the data using the [```plt.axhline()```](http://matplotlib.org/api/pyplot_api.html#matplotlib.pyplot.axhline) function."
   ]
  },
  {
   "cell_type": "code",
   "execution_count": null,
   "metadata": {},
   "outputs": [],
   "source": [
    "plt.figure(figsize=(20,4))\n",
    "plt.plot(past)\n",
    "plt.axhline(maximum, color='r')\n",
    "plt.axhline(minimum, color='r')\n",
    "plt.show()"
   ]
  },
  {
   "cell_type": "markdown",
   "metadata": {},
   "source": [
    "## 4. Testing the model on unseen data\n",
    "\n",
    "Now plot all the data instead of just the past data"
   ]
  },
  {
   "cell_type": "code",
   "execution_count": null,
   "metadata": {},
   "outputs": [],
   "source": [
    "plt.figure(figsize=(20,4))\n",
    "plt.plot(all_data, color='g')\n",
    "plt.plot(past, color='b')\n",
    "plt.axhline(maximum, color='r')\n",
    "plt.axhline(minimum, color='r')\n",
    "plt.show()"
   ]
  },
  {
   "cell_type": "markdown",
   "metadata": {},
   "source": [
    "You can clearly see now  that this model does not detect any anomalies. However, the last day of data clearly looks different compared to the other days.\n",
    "\n",
    "In what follows we will build a better model for anomaly detection that is able to detect these 'shape shifts' as well.\n",
    "\n",
    "## 5. Building a model with seasonality\n",
    "\n",
    "To do this we are going to take a step by step approach. Maybe it won't be clear at first why every step is necessary, but that will become clear throughout the process.\n",
    "\n",
    "First we are going to reshape the past data to a 2 dimensional array with 24 columns. This will give us 1 row for each day and 1 column for each hour. For this we are going to use the [```np.reshape()```](https://docs.scipy.org/doc/numpy/reference/generated/numpy.reshape.html) function. The newshape parameter is a tuple which in this case should be ```(-1, 24)```. If you use a ```-1``` the reshape function will automatically compute that dimension. Pay attention to the order in which the numbers are repositioned (the default ordering should work fine here)."
   ]
  },
  {
   "cell_type": "code",
   "execution_count": null,
   "metadata": {
    "nbgrader": {
     "grade": false,
     "grade_id": "ad_reshaped_past",
     "locked": false,
     "schema_version": 3,
     "solution": true
    }
   },
   "outputs": [],
   "source": [
    "### BEGIN SOLUTION\n",
    "reshaped_past = past.reshape((-1, 24))\n",
    "### END SOLUTION\n",
    "# reshaped_past = ?\n",
    "\n",
    "assert len(reshaped_past.shape) == 2\n",
    "assert reshaped_past.shape[1] == 24"
   ]
  },
  {
   "cell_type": "markdown",
   "metadata": {},
   "source": [
    "Now we are going to compute the average over all days. For this we are going to use the [```np.mean()```](https://docs.scipy.org/doc/numpy/reference/generated/numpy.mean.html) with the axis variable set to the first dimension (```axis=0```). Next we are going to plot this."
   ]
  },
  {
   "cell_type": "code",
   "execution_count": null,
   "metadata": {
    "nbgrader": {
     "grade": false,
     "grade_id": "ad_avg_past",
     "locked": false,
     "schema_version": 3,
     "solution": true
    }
   },
   "outputs": [],
   "source": [
    "### BEGIN SOLUTION\n",
    "average_past = np.mean(reshaped_past, axis=0)\n",
    "### END SOLUTION\n",
    "# average_past = ?\n",
    "\n",
    "assert average_past.shape == (24,)\n",
    "\n",
    "plt.plot(average_past)\n",
    "plt.show()"
   ]
  },
  {
   "cell_type": "markdown",
   "metadata": {},
   "source": [
    "What you can see in the plot above is the average number of page views for each hour of the day.\n",
    "\n",
    "Now let's plot this together with the past data on 1 plot. Use a [for loop](https://wiki.python.org/moin/ForLoop) and the [```np.concatenate()```](http://docs.scipy.org/doc/numpy/reference/generated/numpy.concatenate.html) function to concatenate this average 6 times into the variable ```model```."
   ]
  },
  {
   "cell_type": "code",
   "execution_count": null,
   "metadata": {
    "nbgrader": {
     "grade": false,
     "grade_id": "ad_model",
     "locked": false,
     "schema_version": 3,
     "solution": true
    }
   },
   "outputs": [],
   "source": [
    "model = []\n",
    "for i in range(6):\n",
    "### BEGIN SOLUTION\n",
    "    model = np.concatenate((model, average_past))\n",
    "### END SOLUTION\n",
    "#   model = np.concatenate( ? )\n",
    "\n",
    "plt.figure(figsize=(20,4))    \n",
    "plt.plot(model, color='k')\n",
    "plt.plot(past, color='b')\n",
    "plt.show()"
   ]
  },
  {
   "cell_type": "markdown",
   "metadata": {},
   "source": [
    "In the next step we are going to compute the maximum (= positive) and minimum (= negative) deviations from the average to determine what kind of deviations are normal. (Just subtract the average/model from the past and take the min and the max of that)"
   ]
  },
  {
   "cell_type": "code",
   "execution_count": null,
   "metadata": {
    "nbgrader": {
     "grade": false,
     "grade_id": "ad_delta",
     "locked": false,
     "schema_version": 3,
     "solution": true
    }
   },
   "outputs": [],
   "source": [
    "### BEGIN SOLUTION\n",
    "delta_max = np.nanmax(past - model)\n",
    "delta_min = np.nanmin(past - model)\n",
    "### END SOLUTION\n",
    "# delta_max = ?\n",
    "# delta_min = ?\n",
    "print(delta_min, delta_max)"
   ]
  },
  {
   "cell_type": "markdown",
   "metadata": {},
   "source": [
    "Now let's plot this."
   ]
  },
  {
   "cell_type": "code",
   "execution_count": null,
   "metadata": {},
   "outputs": [],
   "source": [
    "plt.figure(figsize=(20,4))\n",
    "plt.plot(model, color='k')\n",
    "plt.plot(past, color='b')\n",
    "plt.plot(model + delta_max, color='r')\n",
    "plt.plot(model + delta_min, color='r')\n",
    "plt.show()"
   ]
  },
  {
   "cell_type": "markdown",
   "metadata": {},
   "source": [
    "Now let's test this on all data"
   ]
  },
  {
   "cell_type": "code",
   "execution_count": null,
   "metadata": {},
   "outputs": [],
   "source": [
    "model_all = np.concatenate((model, average_past))\n",
    "\n",
    "plt.figure(figsize=(20,4))\n",
    "plt.plot(all_data, color='g')\n",
    "plt.plot(model_all, color='k')\n",
    "plt.plot(past, color='b')\n",
    "plt.plot(model_all + delta_max, color='r')\n",
    "plt.plot(model_all + delta_min, color='r')\n",
    "plt.show()"
   ]
  },
  {
   "cell_type": "markdown",
   "metadata": {},
   "source": [
    "Now you can clearly see where the anomaly is detected by this more advanced model. The code below can gives you the exact indices where an anomaly is detected. The functions uses are the following [```np.argwhere()```](https://docs.scipy.org/doc/numpy/reference/generated/numpy.argwhere.html) and [```np.logical_or()```](http://docs.scipy.org/doc/numpy/reference/generated/numpy.logical_or.html)."
   ]
  },
  {
   "cell_type": "code",
   "execution_count": null,
   "metadata": {},
   "outputs": [],
   "source": [
    "anomaly_timepoints = np.argwhere(np.logical_or(all_data < model_all + delta_min, all_data > model_all + delta_max))\n",
    "\n",
    "plt.figure(figsize=(20,4))\n",
    "plt.scatter(anomaly_timepoints, all_data[anomaly_timepoints], color='r', linewidth=8)\n",
    "plt.plot(all_data, color='g')\n",
    "plt.plot(model_all, color='k')\n",
    "plt.plot(past, color='b')\n",
    "plt.plot(model_all + delta_max, color='r')\n",
    "plt.plot(model_all + delta_min, color='r')\n",
    "plt.xlim(0, len(all_data))\n",
    "plt.show()\n",
    "\n",
    "print(f'The anomaly occurs at the following timestamps: {anomaly_timepoints}')"
   ]
  },
  {
   "cell_type": "code",
   "execution_count": null,
   "metadata": {},
   "outputs": [],
   "source": []
  }
 ],
 "metadata": {
  "anaconda-cloud": {},
  "celltoolbar": "Create Assignment",
  "kernelspec": {
   "display_name": "Python 3",
   "language": "python",
   "name": "python3"
  },
  "language_info": {
   "codemirror_mode": {
    "name": "ipython",
    "version": 3
   },
   "file_extension": ".py",
   "mimetype": "text/x-python",
   "name": "python",
   "nbconvert_exporter": "python",
   "pygments_lexer": "ipython3",
   "version": "3.6.7"
  },
  "pycharm": {
   "stem_cell": {
    "cell_type": "raw",
    "metadata": {
     "collapsed": false
    },
    "source": []
   }
  }
 },
 "nbformat": 4,
 "nbformat_minor": 1
}
