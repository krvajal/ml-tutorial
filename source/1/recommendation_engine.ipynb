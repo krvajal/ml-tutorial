{
 "cells": [
  {
   "cell_type": "markdown",
   "metadata": {},
   "source": [
    "# Recommendation Engine\n",
    "In this tutorial we are going to build a simple recommender system using collaborative filtering. You'll be learning about the popular data analysis package [pandas](https://pandas.pydata.org/) along the way.\n",
    "\n",
    "\n",
    "## 1. The import statements"
   ]
  },
  {
   "cell_type": "code",
   "execution_count": null,
   "metadata": {},
   "outputs": [],
   "source": [
    "import numpy as np\n",
    "import pandas as pd\n",
    "import sklearn.metrics.pairwise"
   ]
  },
  {
   "cell_type": "markdown",
   "metadata": {},
   "source": [
    "## 2. The data\n",
    "\n",
    "We will use Germany's data of the [Last.fm Dataset](https://labrosa.ee.columbia.edu/millionsong/lastfm). To read and explore the data we will use the [pandas library](https://pandas.pydata.org/):\n",
    "+ [`pandas.read_csv`](https://pandas.pydata.org/pandas-docs/stable/reference/api/pandas.read_csv.html): reads a csv file and returns a [`pandas.DataFrame`](https://pandas.pydata.org/pandas-docs/stable/reference/api/pandas.DataFrame.html), a two-dimensional data structure with labelled rows and columns.\n",
    "+ [`pandas.DataFrame.set_index`](https://pandas.pydata.org/pandas-docs/stable/reference/api/pandas.DataFrame.set_index.html): sets the DataFrame index (the row labels).\n",
    "\n",
    "Pandas enables the use of method chaining: `read_csv` call returns a DataFrame, on which we can immediatly apply the `set_index` method by chaining it via dot notation."
   ]
  },
  {
   "cell_type": "code",
   "execution_count": null,
   "metadata": {},
   "outputs": [],
   "source": [
    "data = pd.read_csv('data/lastfm-matrix-germany.csv').set_index('user')\n",
    "data.head()"
   ]
  },
  {
   "cell_type": "code",
   "execution_count": null,
   "metadata": {},
   "outputs": [],
   "source": [
    "data.shape"
   ]
  },
  {
   "cell_type": "markdown",
   "metadata": {},
   "source": [
    "The resulting DataFrame contains a row for each user and each column represents an artist. The values indicate whether the user listend to a song by that artist (1) or not (0). Note that the number of times a person listened to a specific artist is not listed."
   ]
  },
  {
   "cell_type": "markdown",
   "metadata": {},
   "source": [
    "## 3. Determining artist similarity\n",
    "\n",
    "We want to figure out which artist to recommend to which user. Since we know which user listened to which artists we can look for artists or users that are similar. Humans can have vastly complex listening preferences and are very hard to group. Artists on the other hand are usually much easier to group. So it is best to look for similarities between artists rather than between users.\n",
    "\n",
    "To determine if two artists are similar, you can use many different similarity metrics. Finding the best metric is a whole research topic on its own. In many cases though, the [cosine similarity](https://en.wikipedia.org/wiki/Cosine_similarity) is used. The implementation we will use here is the [`sklearn.metrics.pairwise.cosine_similarity`](http://scikit-learn.org/stable/modules/generated/sklearn.metrics.pairwise.cosine_similarity.html).\n",
    "\n",
    "This function will create a matrix of similarity scores between elements in the first dimension of the input. In our dataset the first dimension holds the different users and the second the different artists. You can switch these dimensions with [np.transpose()](https://docs.scipy.org/doc/numpy/reference/generated/numpy.transpose.html)."
   ]
  },
  {
   "cell_type": "code",
   "execution_count": null,
   "metadata": {
    "nbgrader": {
     "grade": false,
     "grade_id": "cell-d9c9433185b5e835",
     "locked": false,
     "schema_version": 3,
     "solution": true
    }
   },
   "outputs": [],
   "source": [
    "### BEGIN SOLUTION\n",
    "similarity_matrix = sklearn.metrics.pairwise.cosine_similarity(np.transpose(data))\n",
    "### END SOLUTION\n",
    "# similarity_matrix = sklearn.metrics.pairwise.cosine_similarity( ? )\n",
    "\n",
    "assert similarity_matrix.shape == (285, 285)\n",
    "print(similarity_matrix.ndim)"
   ]
  },
  {
   "cell_type": "markdown",
   "metadata": {},
   "source": [
    "The `cosine_similarity` function returned a 2-dimensional [`numpy array`](https://docs.scipy.org/doc/numpy/reference/generated/numpy.ndarray.html). This array contains all the similarity values we need, but it is not labelled. Since the entire array will not fit the screen, we will use [`slicing`](https://docs.scipy.org/doc/numpy/reference/arrays.indexing.html) to print a subset of the result."
   ]
  },
  {
   "cell_type": "code",
   "execution_count": null,
   "metadata": {},
   "outputs": [],
   "source": [
    "similarity_matrix[:5, :5]"
   ]
  },
  {
   "cell_type": "markdown",
   "metadata": {},
   "source": [
    "The artist names are both the row and column labels for the similarity_matrix. We can add these labels by creating a new DataFrame based on the numpy array. By using the [`pandas.DataFrame.iloc`](https://pandas.pydata.org/pandas-docs/stable/reference/api/pandas.DataFrame.iloc.html) integer-location based indexer, we get the same slice as above, but with added labels."
   ]
  },
  {
   "cell_type": "code",
   "execution_count": null,
   "metadata": {
    "nbgrader": {
     "grade": false,
     "grade_id": "cell-bf8be89c52b2b948",
     "locked": false,
     "schema_version": 3,
     "solution": true,
     "task": false
    }
   },
   "outputs": [],
   "source": [
    "### BEGIN SOLUTION\n",
    "artist_similarities = pd.DataFrame(similarity_matrix, index=data.columns, columns=data.columns)\n",
    "### END SOLUTION\n",
    "# artist_similarities = pd.DataFrame( ? , index=data.columns, columns= ? )\n",
    "\n",
    "assert np.array_equal(artist_similarities.columns, data.columns)\n",
    "assert artist_similarities.shape == similarity_matrix.shape\n",
    "\n",
    "artist_similarities.iloc[:5, :5]"
   ]
  },
  {
   "cell_type": "markdown",
   "metadata": {},
   "source": [
    "Pandas also provides a label based indexer, [`pandas.DataFrame.loc`](https://pandas.pydata.org/pandas-docs/stable/reference/api/pandas.DataFrame.loc.html#pandas.DataFrame.loc), which we can use to get a slice based on label values."
   ]
  },
  {
   "cell_type": "code",
   "execution_count": null,
   "metadata": {},
   "outputs": [],
   "source": [
    "slice_artists = ['ac/dc', 'madonna', 'metallica', 'rihanna', 'the white stripes']\n",
    "\n",
    "artist_similarities.loc[slice_artists, slice_artists]"
   ]
  },
  {
   "cell_type": "markdown",
   "metadata": {},
   "source": [
    "As you can see above, bands are 100% similar to themselves and The White Stripes are nothing like Abba. \n",
    "\n",
    "We can further increase the usability of this data by making it a [tidy dataset](https://en.wikipedia.org/wiki/Tidy_data). This means we'll put each variable in a column, and each observation in a row. There's three variables in our dataset:\n",
    "+ first artist\n",
    "+ second artist\n",
    "+ cosine similarity\n",
    "\n",
    "In our current DataFrame the second artist is determined by the column labels, and as consequence the cosine similarity observation is spread over multiple columns. The [`pandas.DataFrame.melt`](https://pandas.pydata.org/pandas-docs/stable/reference/api/pandas.melt.html) method will fix this. We make extensive use of method chaining for this reshaping of the DataFrame. If you want to know the effect of the different methods, you can comment / uncomment them and check the influence on the result."
   ]
  },
  {
   "cell_type": "code",
   "execution_count": null,
   "metadata": {},
   "outputs": [],
   "source": [
    "similarities = (\n",
    "    # start from untidy DataFrame\n",
    "    artist_similarities\n",
    "    # add a name to the index\n",
    "    .rename_axis(index='artist')\n",
    "    # artist needs to be a column for melt\n",
    "    .reset_index()\n",
    "    # create the tidy dataset\n",
    "    .melt(id_vars='artist', var_name='compared_with', value_name='cosine_similarity')\n",
    "    # artist compared with itself not needed, keep rows where artist and compared_with are not equal.\n",
    "    .query('artist != compared_with')\n",
    "    # set identifying observations to index\n",
    "    .set_index(['artist', 'compared_with'])\n",
    "    # sort the index\n",
    "    .sort_index()\n",
    ")"
   ]
  },
  {
   "cell_type": "markdown",
   "metadata": {},
   "source": [
    "To view the first n rows, we can use the [`pandas.DataFrame.head`](https://pandas.pydata.org/pandas-docs/stable/reference/api/pandas.DataFrame.head.html) method, the default value for n is 5."
   ]
  },
  {
   "cell_type": "code",
   "execution_count": null,
   "metadata": {},
   "outputs": [],
   "source": [
    "similarities.head()"
   ]
  },
  {
   "cell_type": "markdown",
   "metadata": {},
   "source": [
    "Note that we created a [`MultiIndex`](https://pandas.pydata.org/pandas-docs/stable/user_guide/advanced.html#advanced-hierarchical) by specifying two columns in the set_index call."
   ]
  },
  {
   "cell_type": "code",
   "execution_count": null,
   "metadata": {},
   "outputs": [],
   "source": [
    "similarities.index"
   ]
  },
  {
   "cell_type": "markdown",
   "metadata": {},
   "source": [
    "The use of the MultiIndex enables flexible access to the data. If we index with a single artist name, we get all compared artists. To view the last n rows for this result, we can use the [`pandas.DataFrame.tail`](https://pandas.pydata.org/pandas-docs/stable/reference/api/pandas.DataFrame.tail.html#pandas.DataFrame.tail) method."
   ]
  },
  {
   "cell_type": "code",
   "execution_count": null,
   "metadata": {},
   "outputs": [],
   "source": [
    "similarities.loc['the beatles', :].tail()"
   ]
  },
  {
   "cell_type": "markdown",
   "metadata": {},
   "source": [
    "We can index on multiple levels by providing a tuple of indexes:"
   ]
  },
  {
   "cell_type": "code",
   "execution_count": null,
   "metadata": {},
   "outputs": [],
   "source": [
    "similarities.loc[('abba', 'madonna'), :]"
   ]
  },
  {
   "cell_type": "code",
   "execution_count": null,
   "metadata": {},
   "outputs": [],
   "source": [
    "print(slice_artists)\n",
    "similarities.loc[('abba', slice_artists), :]"
   ]
  },
  {
   "cell_type": "markdown",
   "metadata": {},
   "source": [
    "## 4. Picking the best matches\n",
    "\n",
    "Even though many of the artists above have a similarity close to 0, there might be some artists that seem to be slightly similar because somebody with a complex taste listened to them both. To remove this noise from the dataset we are going to limit the number of matches.\n",
    "\n",
    "Let's first try this with the first artist in the list: `a perfect circle`."
   ]
  },
  {
   "cell_type": "code",
   "execution_count": null,
   "metadata": {
    "nbgrader": {
     "grade": false,
     "grade_id": "cell-5be53bdff412383a",
     "locked": false,
     "schema_version": 3,
     "solution": true
    }
   },
   "outputs": [],
   "source": [
    "artist = 'a perfect circle'\n",
    "n_artists = 10\n",
    "### BEGIN SOLUTION\n",
    "top_n = similarities.loc[artist, :].sort_values('cosine_similarity').tail(n_artists)\n",
    "### END SOLUTION\n",
    "# top_n = similarities.loc[?, :].sort_values('cosine_similarity') ?\n",
    "print(top_n)\n",
    "\n",
    "assert len(top_n) == 10\n",
    "assert type(top_n) == pd.DataFrame"
   ]
  },
  {
   "cell_type": "markdown",
   "metadata": {},
   "source": [
    "We can transform the task of getting the most similar bands for a given band to a function."
   ]
  },
  {
   "cell_type": "code",
   "execution_count": null,
   "metadata": {
    "nbgrader": {
     "grade": false,
     "grade_id": "cell-09dff19a82051e3e",
     "locked": false,
     "schema_version": 3,
     "solution": true,
     "task": false
    }
   },
   "outputs": [],
   "source": [
    "def most_similar_artists(artist, n_artists=10):\n",
    "    \"\"\"Get the most similar artists for a given artist.\n",
    "    \n",
    "    Parameters\n",
    "    ----------\n",
    "    artist: str\n",
    "        The artist for which to get similar artists\n",
    "    n_artists: int, optional\n",
    "        The number of similar artists to return\n",
    "    \n",
    "    Returns\n",
    "    -------\n",
    "    pandas.DataFrame\n",
    "        A DataFrame with the similar artists and their cosine_similarity to\n",
    "        the given artist\n",
    "    \"\"\"\n",
    "    ### BEGIN SOLUTION\n",
    "    return similarities.loc[artist, :].sort_values('cosine_similarity').tail(n_artists)\n",
    "    ### END SOLUTION\n",
    "    # return similarities.loc[ ? ].sort_values( ? ) ?\n",
    "\n",
    "print(most_similar_artists('a perfect circle'))\n",
    "\n",
    "assert top_n.equals(most_similar_artists('a perfect circle'))\n",
    "assert most_similar_artists('abba', n_artists=15).shape == (15, 1)"
   ]
  },
  {
   "cell_type": "markdown",
   "metadata": {},
   "source": [
    "Note that we also defined a docstring for this function, which we can view by using `help()` or `shift + tab` in a jupyter notebook."
   ]
  },
  {
   "cell_type": "code",
   "execution_count": null,
   "metadata": {},
   "outputs": [],
   "source": [
    "help(most_similar_artists)"
   ]
  },
  {
   "cell_type": "markdown",
   "metadata": {},
   "source": [
    "## 5. Get the listening history\n",
    "\n",
    "To determine the recommendation score for an artist, we'll want to know whether a user listened to many similar artists. We know which artists are similar to a given artist, but we still need to figure out if any of these similar artists are in the listening history of the user. The listening history of a single user can be acquired by entering the user id with the `.loc` indexer."
   ]
  },
  {
   "cell_type": "code",
   "execution_count": null,
   "metadata": {
    "nbgrader": {
     "grade": false,
     "grade_id": "cell-25abc7481fe4debc",
     "locked": false,
     "schema_version": 3,
     "solution": true,
     "task": false
    }
   },
   "outputs": [],
   "source": [
    "user_id = 42\n",
    "### BEGIN SOLUTION\n",
    "user_history = data.loc[user_id, :]\n",
    "### END SOLUTION\n",
    "# user_history = data.loc[ ? , ?]\n",
    "\n",
    "print(user_history)\n",
    "\n",
    "assert user_history.name == user_id\n",
    "assert len(user_history) == 285"
   ]
  },
  {
   "cell_type": "markdown",
   "metadata": {},
   "source": [
    "We now have the complete listening history, but we only need the history for the similar artists. For this we can use the index labels from the DataFrame returned by the `most_similar_artists` function. Index labels for a DataFrame can be retrieved by using the [`pandas.DataFrame.index`](https://pandas.pydata.org/pandas-docs/stable/reference/api/pandas.DataFrame.index.html) attribute."
   ]
  },
  {
   "cell_type": "code",
   "execution_count": null,
   "metadata": {
    "nbgrader": {
     "grade": false,
     "grade_id": "cell-d3b733a582ca558e",
     "locked": false,
     "schema_version": 3,
     "solution": true,
     "task": false
    }
   },
   "outputs": [],
   "source": [
    "artist = 'the beatles'\n",
    "### BEGIN SOLUTION\n",
    "similar_labels = most_similar_artists(artist).index\n",
    "### END SOLUTION\n",
    "# similar_labels = most_similar_artists( ? ). ?\n",
    "\n",
    "print(similar_labels)\n",
    "\n",
    "assert len(similar_labels) == 10\n",
    "assert type(similar_labels) == pd.Index"
   ]
  },
  {
   "cell_type": "markdown",
   "metadata": {},
   "source": [
    "We can combine the user id and similar labels in the `.loc` indexer to get the listening history for the most similar artists."
   ]
  },
  {
   "cell_type": "code",
   "execution_count": null,
   "metadata": {
    "nbgrader": {
     "grade": false,
     "grade_id": "cell-f760b9149142840c",
     "locked": false,
     "schema_version": 3,
     "solution": true,
     "task": false
    }
   },
   "outputs": [],
   "source": [
    "user_id = 42\n",
    "### BEGIN SOLUTION\n",
    "similar_history = data.loc[user_id, similar_labels]\n",
    "### END SOLUTION\n",
    "# similar_history = data.loc[?, ?]\n",
    "\n",
    "assert similar_history.name == user_id\n",
    "\n",
    "print(similar_history)"
   ]
  },
  {
   "cell_type": "markdown",
   "metadata": {},
   "source": [
    "Let's make a function to get the most similar artists and their listening history for a given artist and user. The function creates two DataFrames with the same index, and then uses [`pandas.concat`](https://pandas.pydata.org/pandas-docs/stable/reference/api/pandas.concat.html) to create a single DataFrame from them."
   ]
  },
  {
   "cell_type": "code",
   "execution_count": null,
   "metadata": {
    "nbgrader": {
     "grade": false,
     "grade_id": "cell-8e3d10b5a0ebeaca",
     "locked": false,
     "schema_version": 3,
     "solution": true,
     "task": false
    }
   },
   "outputs": [],
   "source": [
    "def most_similar_artists_history(artist, user_id):\n",
    "    \"\"\"Get most similar artists and their listening history.\n",
    "    \n",
    "    Parameters\n",
    "    ----------\n",
    "    artist: str\n",
    "        The artist for which to get the most similar bands\n",
    "    user_id: int\n",
    "        The user for which to get the listening history\n",
    "        \n",
    "    Returns\n",
    "    -------\n",
    "    pandas.DataFrame\n",
    "        A DataFrame containing the most similar artists for the given artist,\n",
    "        with their cosine similarities and their listening history status for\n",
    "        the given user.\n",
    "    \"\"\"\n",
    "    ### BEGIN SOLUTION\n",
    "    artists = most_similar_artists(artist)\n",
    "    history = data.loc[user_id, artists.index].rename('listening_history')\n",
    "    ### END SOLUTION\n",
    "    # artists = most_similar_artists( ? )\n",
    "    # history = data.loc[ ? , ? ].rename('listening_history')\n",
    "    return pd.concat([artists, history], axis=1)\n",
    "\n",
    "example = most_similar_artists_history('abba', 42)\n",
    "\n",
    "assert example.columns.to_list() == ['cosine_similarity', 'listening_history']\n",
    "\n",
    "example"
   ]
  },
  {
   "cell_type": "markdown",
   "metadata": {},
   "source": [
    "## 6. Calculate the recommendation score.\n",
    "\n",
    "Now that we have the `most_similar_artists_history` function, we can start to figure out which artists to advise to whom. We want to quantify how the listening history of a user matches artists similar to an artist they didn't listen to yet. For this purpose we will use the following recommendation score: \n",
    "+ We start with the similar artists for a given artist, and their listening history for the user.\n",
    "+ Then we sum the cosine similarities of artists the user listened to. \n",
    "+ In the end we divide by the total sum of similarities to normalize the score.\n",
    "\n",
    "So when a user listened to 1 of 3 artists that are similar, for example `[0, 1, 0]` and their respective similarity scores are `[0.3, 0.2, 0.1]` you get the following recommendation score:"
   ]
  },
  {
   "cell_type": "code",
   "execution_count": null,
   "metadata": {},
   "outputs": [],
   "source": [
    "listening_history = np.array([0, 1, 0]) \n",
    "similarity_scores = np.array([0.3, 0.2, 0.1])\n",
    "recommendation_score = sum(listening_history * similarity_scores) / sum(similarity_scores)\n",
    "print(f'{recommendation_score:.3f}')"
   ]
  },
  {
   "cell_type": "markdown",
   "metadata": {},
   "source": [
    "Remember what the DataFrame returned by the `most_similar_artists_history` function looks like:"
   ]
  },
  {
   "cell_type": "code",
   "execution_count": null,
   "metadata": {},
   "outputs": [],
   "source": [
    "user_id = 42\n",
    "artist = 'abba'\n",
    "most_similar_artists_history(artist, user_id)"
   ]
  },
  {
   "cell_type": "markdown",
   "metadata": {},
   "source": [
    "Pandas provides methods to do column or row aggregation, like e.g. [`pandas.DataFrame.product`](https://pandas.pydata.org/pandas-docs/stable/reference/api/pandas.DataFrame.product.html). This method will calculate all values in a column or row. The direction can be chosen with the `axis` parameter. As we need the product of the values in the rows (similarity \\* history), we will need to specify `axis=1`."
   ]
  },
  {
   "cell_type": "code",
   "execution_count": null,
   "metadata": {},
   "outputs": [],
   "source": [
    "most_similar_artists_history(artist, user_id).product(axis=1)"
   ]
  },
  {
   "cell_type": "markdown",
   "metadata": {},
   "source": [
    "Then there's [`pandas.DataFrame.sum`](https://pandas.pydata.org/pandas-docs/stable/reference/api/pandas.DataFrame.sum.html) which does the same thing for summing the values. As we want the sum for all values in the column we would have to specify `axis=0`. Since 0 is the default value for the `axis` parameter we don't have to add it to the method call."
   ]
  },
  {
   "cell_type": "code",
   "execution_count": null,
   "metadata": {},
   "outputs": [],
   "source": [
    "most_similar_artists_history(artist, user_id).product(axis=1).sum()"
   ]
  },
  {
   "cell_type": "markdown",
   "metadata": {},
   "source": [
    "Knowing these methods, it is only a small step to define the scoring function based on the output of `most_similar_artists_history`."
   ]
  },
  {
   "cell_type": "code",
   "execution_count": null,
   "metadata": {
    "nbgrader": {
     "grade": false,
     "grade_id": "cell-bb2cf4016de8fed1",
     "locked": false,
     "schema_version": 3,
     "solution": true,
     "task": false
    }
   },
   "outputs": [],
   "source": [
    "def recommendation_score(artist, user_id):\n",
    "    \"\"\"Calculate recommendation score.\n",
    "    \n",
    "    Parameters\n",
    "    ----------\n",
    "    artist: str\n",
    "        The artist for which to calculate the recommendation score.\n",
    "    user_id: int\n",
    "        The user for which to calculate the recommendation score.\n",
    "        \n",
    "    Returns:\n",
    "    float\n",
    "        Recommendation score    \n",
    "    \"\"\"\n",
    "    df = most_similar_artists_history(artist, user_id)\n",
    "    ### BEGIN SOLUTION\n",
    "    return df.product(axis=1).sum() / df.loc[:, 'cosine_similarity'].sum()\n",
    "    ### END SOLUTION\n",
    "    # return df.?(axis=1).?() / df.loc[:, ? ].sum()\n",
    "\n",
    "assert np.allclose(recommendation_score('abba', 42), 0.08976655361839528)\n",
    "assert np.allclose(recommendation_score('the white stripes', 1), 0.09492796371597861)\n",
    "\n",
    "recommendation_score('abba', 42)"
   ]
  },
  {
   "cell_type": "markdown",
   "metadata": {},
   "source": [
    "## Determine artists to recommend\n",
    "We only want to recommend artists the user didn't listen to yet, which we'll determine by using the listening history."
   ]
  },
  {
   "cell_type": "code",
   "execution_count": null,
   "metadata": {
    "nbgrader": {
     "grade": false,
     "grade_id": "cell-f0fc246fe0f6b327",
     "locked": false,
     "schema_version": 3,
     "solution": true,
     "task": false
    }
   },
   "outputs": [],
   "source": [
    "def unknown_artists(user_id):\n",
    "    \"\"\"Get artists the user hasn't listened to.\n",
    "    \n",
    "    Parameters\n",
    "    ----------\n",
    "    user_id: int\n",
    "        User for which to get unknown artists\n",
    "        \n",
    "    Returns\n",
    "    -------\n",
    "    pandas.Index\n",
    "        Collection of artists the user hasn't listened to.\n",
    "    \"\"\"\n",
    "    ### BEGIN SOLUTION\n",
    "    history = data.loc[user_id, :]\n",
    "    return history.loc[history == 0].index\n",
    "    ### END SOLUTION\n",
    "    # history = data.loc[ ? , :]\n",
    "    # return history.loc[ ? == 0].index\n",
    "    \n",
    "print(unknown_artists(42))\n",
    "\n",
    "assert len(unknown_artists(42)) == 278\n",
    "assert type(unknown_artists(42)) == pd.Index"
   ]
  },
  {
   "cell_type": "markdown",
   "metadata": {},
   "source": [
    "The last requirement for our recommender engine is a function that can score all unknown artists for a given user. We will make this function return a list of dictionaries, which can be easily converted to a DataFrame later on. The list will be generated using a [`list comprehension`](https://docs.python.org/3.6/tutorial/datastructures.html#list-comprehensions)."
   ]
  },
  {
   "cell_type": "code",
   "execution_count": null,
   "metadata": {
    "nbgrader": {
     "grade": false,
     "grade_id": "cell-bb3ea5deb3d839a0",
     "locked": false,
     "schema_version": 3,
     "solution": true,
     "task": false
    }
   },
   "outputs": [],
   "source": [
    "def score_unknown_artists(user_id):\n",
    "    \"\"\"Score all unknown artists for a given user.\n",
    "    \n",
    "    Parameters\n",
    "    ----------\n",
    "    user_id: int\n",
    "        User for which to get unknown artists\n",
    "        \n",
    "    Returns\n",
    "    -------\n",
    "    list of dict\n",
    "        A list of dictionaries.\n",
    "    \"\"\"\n",
    "    ### BEGIN SOLUTION\n",
    "    artists = unknown_artists(user_id)\n",
    "    return [{'recommendation': artist, 'score': recommendation_score(artist, user_id)} for artist in artists]\n",
    "    ### END SOLUTION\n",
    "    # artists = unknown_artists( ? )\n",
    "    # return [{'recommendation': artist, 'score': recommendation_score( ? , user_id)} for artist in ?]\n",
    "\n",
    "assert np.allclose(score_unknown_artists(42)[1]['score'], 0.08976655361839528)\n",
    "assert np.allclose(score_unknown_artists(313)[137]['score'], 0.20616395469219984)\n",
    "\n",
    "score_unknown_artists(42)[:5]"
   ]
  },
  {
   "cell_type": "markdown",
   "metadata": {},
   "source": [
    "From the scored artists we can easily derive the best recommendations for a given user."
   ]
  },
  {
   "cell_type": "code",
   "execution_count": null,
   "metadata": {
    "nbgrader": {
     "grade": false,
     "grade_id": "cell-f0c16524a1e32c3e",
     "locked": false,
     "schema_version": 3,
     "solution": true,
     "task": false
    }
   },
   "outputs": [],
   "source": [
    "def user_recommendations(user_id, n_rec=5):\n",
    "    \"\"\"Recommend new artists for a user.\n",
    "    \n",
    "    Parameters\n",
    "    ----------\n",
    "    user_id: int\n",
    "        User for which to get recommended artists\n",
    "    n_rec: int, optional\n",
    "        Number of recommendations to make\n",
    "        \n",
    "    Returns\n",
    "    -------\n",
    "    pandas.DataFrame\n",
    "        A DataFrame containing artist recommendations for the given user,\n",
    "        with their recommendation score.\n",
    "    \"\"\"\n",
    "    scores = score_unknown_artists(user_id)\n",
    "    ### BEGIN SOLUTION\n",
    "    return (\n",
    "        pd.DataFrame(scores)\n",
    "        .sort_values('score', ascending=False)\n",
    "        .head(n_rec)\n",
    "        .reset_index(drop=True)\n",
    "    )\n",
    "    ### END SOLUTION\n",
    "    # return (\n",
    "    #     pd.DataFrame( ? )\n",
    "    #     .sort_values( ? , ascending=False)\n",
    "    #     . ? (n_rec)\n",
    "    #     .reset_index(drop=True)\n",
    "    # )\n",
    "\n",
    "assert user_recommendations(313).loc[4, 'recommendation'] == 'jose gonzalez'\n",
    "assert len(user_recommendations(1, n_rec=10)) == 10\n",
    "\n",
    "user_recommendations(642)"
   ]
  },
  {
   "cell_type": "markdown",
   "metadata": {},
   "source": [
    "With this final function, it is a small step to get recommendations for multiple users. As our code hasn't been optimized for performance, it is advised to limit the number of users somewhat."
   ]
  },
  {
   "cell_type": "code",
   "execution_count": null,
   "metadata": {},
   "outputs": [],
   "source": [
    "recommendations = [user_recommendations(user).loc[:, 'recommendation'].rename(user) for user in data.index[:10]]"
   ]
  },
  {
   "cell_type": "markdown",
   "metadata": {},
   "source": [
    "We can now use the `concat` function again to get a nice overview of the recommended artists."
   ]
  },
  {
   "cell_type": "code",
   "execution_count": null,
   "metadata": {},
   "outputs": [],
   "source": [
    "np.transpose(pd.concat(recommendations, axis=1))"
   ]
  },
  {
   "cell_type": "code",
   "execution_count": null,
   "metadata": {},
   "outputs": [],
   "source": [
    "g_s = most_similar_artists_history('gorillaz', 642).assign(sim2 = lambda x: x.product(axis=1))\n",
    "r_1 = g_s.sim2.sum()\n",
    "total = g_s.cosine_similarity.sum()\n",
    "print(total)\n",
    "r_1/total\n"
   ]
  },
  {
   "cell_type": "code",
   "execution_count": null,
   "metadata": {},
   "outputs": [],
   "source": [
    "g_s"
   ]
  }
 ],
 "metadata": {
  "celltoolbar": "Create Assignment",
  "kernelspec": {
   "display_name": "Python 3",
   "language": "python",
   "name": "python3"
  },
  "language_info": {
   "codemirror_mode": {
    "name": "ipython",
    "version": 3
   },
   "file_extension": ".py",
   "mimetype": "text/x-python",
   "name": "python",
   "nbconvert_exporter": "python",
   "pygments_lexer": "ipython3",
   "version": "3.6.7"
  },
  "pycharm": {
   "stem_cell": {
    "cell_type": "raw",
    "metadata": {
     "collapsed": false
    },
    "source": []
   }
  }
 },
 "nbformat": 4,
 "nbformat_minor": 4
}
